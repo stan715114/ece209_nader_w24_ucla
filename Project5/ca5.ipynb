{
  "nbformat": 4,
  "nbformat_minor": 0,
  "metadata": {
    "colab": {
      "provenance": []
    },
    "kernelspec": {
      "name": "python3",
      "display_name": "Python 3"
    },
    "language_info": {
      "name": "python"
    }
  },
  "cells": [
    {
      "cell_type": "markdown",
      "source": [
        "# ECE 209AS CA5"
      ],
      "metadata": {
        "id": "haNuJTM2F_Jh"
      }
    },
    {
      "cell_type": "markdown",
      "source": [
        "Zan Xie 205364923"
      ],
      "metadata": {
        "id": "XuXYzh3KGDS7"
      }
    },
    {
      "cell_type": "code",
      "execution_count": null,
      "metadata": {
        "id": "JTBRSUqDF0W-"
      },
      "outputs": [],
      "source": [
        "# library\n",
        "!pip install gspread\n",
        "import gspread\n",
        "from google.colab import auth\n",
        "from google.auth import default\n",
        "auth.authenticate_user()\n",
        "\n",
        "import re\n",
        "import hashlib\n",
        "import datetime"
      ]
    },
    {
      "cell_type": "code",
      "source": [
        "# compute SHA256 hash\n",
        "def SHA256(input_string):\n",
        "  return hashlib.sha256(input_string.encode()).hexdigest()\n",
        "\n",
        "# proof of work function\n",
        "def proof_of_work(data, difficulty='0000'):\n",
        "  nonce = 0\n",
        "  while True:\n",
        "    nonce_str = hex(nonce)[2:]\n",
        "    hash_result = SHA256(data + nonce_str)\n",
        "    if hash_result.startswith(difficulty):\n",
        "      return nonce_str, hash_result\n",
        "    nonce += 1\n",
        "\n",
        "# convert column index to letter notation\n",
        "def index_to_letter(index):\n",
        "  letters = ''\n",
        "  while index > 0:\n",
        "    index, remainder = divmod(index - 1, 26)\n",
        "    letters = chr(65 + remainder) + letters\n",
        "  return letters\n"
      ],
      "metadata": {
        "id": "0OAGaMcepwfE"
      },
      "execution_count": 132,
      "outputs": []
    },
    {
      "cell_type": "code",
      "source": [
        "# load in worksheet\n",
        "file_name = 'myBlockchainPython'\n",
        "creds, _ = default()\n",
        "gc = gspread.authorize(creds)\n",
        "worksheet = gc.open(file_name).sheet1\n",
        "\n",
        "all_values = worksheet.get_all_values()\n",
        "last_col = len(all_values[0])\n",
        "\n",
        "# the most recent block hash\n",
        "# hardcode the most recent block's data and get its hash instead of retriving it using get_value()\n",
        "# detail explaination in project report\n",
        "pre_block_index = int(worksheet.cell(1, last_col - 2).value.split('#')[1])\n",
        "if (pre_block_index == 0):\n",
        "  data = 'Block #0TransactionsFromToAmount-Miner #112.5MeadowPJ15.13PJNader75.52MeadowEllie31.51VictimHacker99MetadataPrevious Hash2e6e504eaf47df8e4c7c9d7109073a2e        Timestamp45051.7404976852Nonce24e'\n",
        "  pre_hash = SHA256(data)\n",
        "else:\n",
        "  pre_hash = worksheet.cell(14, last_col - 1).value\n",
        "\n",
        "print('pre_block_idx:', pre_block_index)\n",
        "print('pre_hash:',pre_hash)\n"
      ],
      "metadata": {
        "colab": {
          "base_uri": "https://localhost:8080/"
        },
        "id": "xIQFwWm5NHie",
        "outputId": "cf4ce6c6-f11e-47fa-a31d-873232e9138d"
      },
      "execution_count": 134,
      "outputs": [
        {
          "output_type": "stream",
          "name": "stdout",
          "text": [
            "pre_block_idx: 1\n",
            "pre_hash: 0000ea4b0bcf46f11fc3cd8cfc96a570b9b4a6b710c061f67b4bbc673b661d3c\n"
          ]
        }
      ]
    },
    {
      "cell_type": "code",
      "source": [
        "# generate a transcation block\n",
        "start_col = index_to_letter(last_col + 1)\n",
        "end_col = index_to_letter(last_col + 3)\n",
        "block_range = f\"{start_col}1:{end_col}14\"\n",
        "block_data = [['' for _ in range(3)] for _ in range(14)]\n",
        "\n",
        "# transcation record, minic real-transcation\n",
        "pay = ['-', 'Stan']\n",
        "receive = ['Miner #1', 'Bob']\n",
        "amount = ['12.50', '9.90']\n",
        "\n",
        "# datetime\n",
        "block_index = pre_block_index + 1\n",
        "now = datetime.datetime.now()\n",
        "format_datetime = now.strftime(\"%m/%d/%Y %H:%M:%S\")\n",
        "\n",
        "# Set values in the block\n",
        "block_data[0][0] = 'Block #' + str(block_index)\n",
        "block_data[1][0] = 'Transactions'\n",
        "block_data[2][0] = 'From'\n",
        "block_data[2][1] = 'To'\n",
        "block_data[2][2] = 'Amount'\n",
        "\n",
        "# transcation content\n",
        "trans_idx = 3\n",
        "trans_limit = 7\n",
        "for x,y,z in zip(pay, receive, amount):\n",
        "  if (trans_idx <= trans_limit):\n",
        "    block_data[trans_idx][0] = x\n",
        "    block_data[trans_idx][1] = y\n",
        "    block_data[trans_idx][2] = z\n",
        "  trans_idx+=1\n",
        "\n",
        "# metadata section\n",
        "block_data[9][0] = 'Metadata'\n",
        "block_data[10][0] = 'Previous Hash'\n",
        "block_data[10][1] = pre_hash\n",
        "block_data[11][0] = 'Timestamp'\n",
        "block_data[11][1] = format_datetime\n",
        "block_data[12][0] = 'Nonce'\n",
        "block_data[13][0] = 'Hash'\n",
        "\n",
        "# join block contents togeter and pass to hashing\n",
        "allData = ''.join(''.join(row) for row in block_data)\n",
        "print(allData)\n",
        "\n",
        "nonce, hash_val = proof_of_work(allData)\n",
        "print('nonce:',nonce)\n",
        "print('hash:',hash_val)\n",
        "\n",
        "# write nonce and hash into cell\n",
        "block_data[12][1] = nonce\n",
        "block_data[13][1] = hash_val\n",
        "\n",
        "# Update the worksheet\n",
        "worksheet.update(range_name=block_range, values=block_data)\n"
      ],
      "metadata": {
        "colab": {
          "base_uri": "https://localhost:8080/"
        },
        "id": "iXchkQ4PqW07",
        "outputId": "f1424fc5-3898-4301-bce3-8fbbac5fab74"
      },
      "execution_count": 135,
      "outputs": [
        {
          "output_type": "stream",
          "name": "stdout",
          "text": [
            "Block #2TransactionsFromToAmount-Miner #112.50StanBob9.90MetadataPrevious Hash0000ea4b0bcf46f11fc3cd8cfc96a570b9b4a6b710c061f67b4bbc673b661d3cTimestamp03/20/2024 18:24:06NonceHash\n",
            "nonce: 1dda\n",
            "hash: 0000fd253f2d8a6c54a280a04eb40c5902234d66a697132e6c543af258e29907\n"
          ]
        },
        {
          "output_type": "execute_result",
          "data": {
            "text/plain": [
              "{'spreadsheetId': '15aRaxgSMDKUKe0s4ND1V1UarUc7wQZYgvm27BEL0p9s',\n",
              " 'updatedRange': \"'Block Structure'!G1:I14\",\n",
              " 'updatedRows': 14,\n",
              " 'updatedColumns': 3,\n",
              " 'updatedCells': 42}"
            ]
          },
          "metadata": {},
          "execution_count": 135
        }
      ]
    }
  ]
}