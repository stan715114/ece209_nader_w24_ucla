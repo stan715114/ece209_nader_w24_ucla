{
  "cells": [
    {
      "cell_type": "markdown",
      "metadata": {
        "id": "vvHUkPgdvCja"
      },
      "source": [
        "\n",
        "## Step 1 - Convert hex to base64\n",
        "\n",
        "> The string:\n",
        "> ```\n",
        "> 49276d206b696c6c696e6720796f757220627261696e206c696b65206120706f69736f6e6f7573206d757368726f6f6d\n",
        "> ```\n",
        "> Should produce:\n",
        "> ```\n",
        "> SSdtIGtpbGxpbmcgeW91ciBicmFpbiBsaWtlIGEgcG9pc29ub3VzIG11c2hyb29t\n",
        "> ```\n",
        "> So go ahead and make that happen. You'll need to use this code for the rest of the exercises.\n",
        ">\n",
        "> ### Comment\n",
        ">\n",
        "> Always operate on raw bytes, never on encoded strings. Only use hex and base64 for pretty-printing."
      ]
    },
    {
      "cell_type": "code",
      "execution_count": 1,
      "metadata": {
        "id": "sFs0TisVvCje",
        "colab": {
          "base_uri": "https://localhost:8080/",
          "height": 0
        },
        "outputId": "23df364a-7c98-4903-a987-d1b6678ec1a7"
      },
      "outputs": [
        {
          "output_type": "stream",
          "name": "stdout",
          "text": [
            "SSdtIGtpbGxpbmcgeW91ciBicmFpbiBsaWtlIGEgcG9pc29ub3VzIG11c2hyb29t\n",
            "\n"
          ]
        }
      ],
      "source": [
        "import codecs\n",
        "def hex_to_base64(hex_string):\n",
        "\n",
        "  hex_decode = codecs.decode(hex_string, 'hex') # decode hex encryption to binary form\n",
        "  base64_encode = codecs.encode(hex_decode, 'base64') # encode binary form to base64\n",
        "  base64_string = base64_encode.decode() # decode binary form to string\n",
        "\n",
        "  #print(hex_decode)\n",
        "  #print(base64_encode)\n",
        "  #print(base64_string)\n",
        "\n",
        "  return base64_string\n",
        "\n",
        "# send in hex_string\n",
        "hex_string = '49276d206b696c6c696e6720796f757220627261696e206c696b65206120706f69736f6e6f7573206d757368726f6f6d'\n",
        "base64_string = hex_to_base64(hex_string)\n",
        "print(base64_string)"
      ]
    },
    {
      "cell_type": "markdown",
      "metadata": {
        "id": "h2Om5KtAvCjg"
      },
      "source": [
        "## Step 2 - Fixed XOR\n",
        "\n",
        "> Write a function that takes two equal-length buffers and produces their XOR combination.\n",
        ">\n",
        "> If your function works properly, then when you feed it the string:\n",
        "> ```\n",
        "> 1c0111001f010100061a024b53535009181c\n",
        "> ```\n",
        "> ... after hex decoding, and when XOR'd (bitwise) against:\n",
        "> ```\n",
        "> 686974207468652062756c6c277320657965\n",
        "> ```\n",
        "> ... should produce:\n",
        "> ```\n",
        "> 746865206b696420646f6e277420706c6179\n",
        "> ```"
      ]
    },
    {
      "cell_type": "code",
      "execution_count": 2,
      "metadata": {
        "id": "2RrYCku-vCjg",
        "colab": {
          "base_uri": "https://localhost:8080/",
          "height": 0
        },
        "outputId": "6df5b7d6-c41d-4fec-9c54-b404ed602f6f"
      },
      "outputs": [
        {
          "output_type": "stream",
          "name": "stdout",
          "text": [
            "746865206b696420646f6e277420706c6179\n"
          ]
        }
      ],
      "source": [
        "def hex_to_int(s): # convert hex string to int\n",
        "  return int(s,base=16)\n",
        "\n",
        "def xor_string(str1, str2): # xor two hex string and return a hex string\n",
        "  s1 = hex_to_int(str1)\n",
        "  s2 = hex_to_int(str2)\n",
        "  return hex(s1^s2)[2:] # slice the 0x at the front\n",
        "\n",
        "str1 = '1c0111001f010100061a024b53535009181c'\n",
        "str2 = '686974207468652062756c6c277320657965'\n",
        "\n",
        "result = xor_string(str1, str2)\n",
        "print(result)"
      ]
    },
    {
      "cell_type": "markdown",
      "metadata": {
        "id": "ith96_nivCjh"
      },
      "source": [
        "## Step 3 - Single-byte XOR cipher\n",
        "\n",
        "> The hex encoded string:\n",
        "> ```\n",
        "> 1b37373331363f78151b7f2b783431333d78397828372d363c78373e783a393b3736\n",
        "> ```\n",
        "> ... has been XOR'd against a single character. Find the key (which is one byte) and decrypt the message. The message is a meaningful sentence in English!\n",
        ">\n",
        "> You should write a code to find the key and decrypt the message. Don't do it manually!\n",
        ">\n",
        "> ### Comment\n",
        "> There are several mini steps to achieve this! First, you need a strategy for searching in the key space. Second, you need a test/scoring mechanism to check whether the decrypted message is  meaningful or not (i.e., detecting garbage vs. the correct output). You can read more about *\"Caesar\"* cipher to get some ideas and more background!"
      ]
    },
    {
      "cell_type": "markdown",
      "metadata": {
        "id": "cOZGQsvOvCjh"
      },
      "source": [
        "#### Description\n",
        "*A brief description of your approach. Don't just put the code. First explain what you did and WHY you did it!*\n",
        "\n",
        "<p> (your description)<br>\n",
        "...\n",
        "</p>"
      ]
    },
    {
      "cell_type": "markdown",
      "source": [
        "Reference: https://www.codementor.io/@arpitbhayani/deciphering-single-byte-xor-ciphertext-17mtwlzh30"
      ],
      "metadata": {
        "id": "a2UVfT3vaIP8"
      }
    },
    {
      "cell_type": "code",
      "source": [
        "import codecs\n",
        "from collections import Counter\n",
        "from typing import List, Tuple\n",
        "\n",
        "def single_byte_xor(text: bytes, key) -> bytes:\n",
        "    return bytes([b ^ key for b in text])\n",
        "\n",
        "occurance_english = { # estimated frequency of words appear in scentence\n",
        "    'a': 8.2389258,    'b': 1.5051398,    'c': 2.8065007,    'd': 4.2904556,\n",
        "    'e': 12.813865,    'f': 2.2476217,    'g': 2.0327458,    'h': 6.1476691,\n",
        "    'i': 6.1476691,    'j': 0.1543474,    'k': 0.7787989,    'l': 4.0604477,\n",
        "    'm': 2.4271893,    'n': 6.8084376,    'o': 7.5731132,    'p': 1.9459884,\n",
        "    'q': 0.0958366,    'r': 6.0397268,    's': 6.3827211,    't': 9.1357551,\n",
        "    'u': 2.7822893,    'v': 0.9866131,    'w': 2.3807842,    'x': 0.1513210,\n",
        "    'y': 1.9913847,    'z': 0.0746517\n",
        "}\n",
        "\n",
        "dist_english = list(occurance_english.values())\n",
        "\n",
        "def compute_fitting_quotient(text: bytes) -> float:\n",
        "    counter = Counter(text) # count the number of times the corresponding letter/symbol/number appears in the text.\n",
        "    dist_text = [\n",
        "        (counter.get(ord(ch), 0) * 100) / len(text) # claculate the frequency of each letter in the text.\n",
        "        for ch in occurance_english\n",
        "    ]\n",
        "    # return the absolute avg of letter frequency between the current text and the given occurance_english\n",
        "    return sum([abs(a - b) for a, b in zip(dist_english, dist_text)]) / len(dist_text)\n",
        "\n",
        "def decipher(text: bytes) -> Tuple[bytes, int]:\n",
        "    \"\"\"The function deciphers an encrypted text using Single Byte XOR and returns\n",
        "    the original plain text message and the encryption key.\n",
        "    \"\"\"\n",
        "    #text = codecs.decode(text, 'hex') # decode hex string to binary form\n",
        "    original_text, encryption_key, min_fq = None, None, None\n",
        "    for k in range(256): # loop all possibilities\n",
        "        # we generate the plain text using encryption key `k`\n",
        "        _text = single_byte_xor(text, k)\n",
        "\n",
        "        # we compute the fitting quotient for this decrypted plain text\n",
        "        _fq = compute_fitting_quotient(_text)\n",
        "\n",
        "        # if the fitting quotient of this generated plain text is lesser\n",
        "        # than the minimum seen till now `min_fq` we update.\n",
        "        if min_fq is None or _fq < min_fq:\n",
        "            encryption_key, original_text, min_fq = k, _text, _fq\n",
        "\n",
        "    # return the text and key that has the minimum fitting quotient\n",
        "    return original_text, encryption_key, min_fq\n",
        "\n",
        "hex_string = '1b37373331363f78151b7f2b783431333d78397828372d363c78373e783a393b3736'\n",
        "hex_byte = codecs.decode(hex_string, 'hex')\n",
        "text,key,_ = decipher(hex_byte)\n",
        "print('encrypted text:', text.decode())\n",
        "print('xor_key:', key)"
      ],
      "metadata": {
        "colab": {
          "base_uri": "https://localhost:8080/",
          "height": 0
        },
        "id": "10LxUaSuaAc2",
        "outputId": "435f4166-6624-4080-b92d-a6aef55eca47"
      },
      "execution_count": 3,
      "outputs": [
        {
          "output_type": "stream",
          "name": "stdout",
          "text": [
            "encrypted text: Cooking MC's like a pound of bacon\n",
            "xor_key: 88\n"
          ]
        }
      ]
    },
    {
      "cell_type": "markdown",
      "metadata": {
        "id": "WKG-XIGmvCji"
      },
      "source": [
        "## Step 4 - Detect single-character XOR\n",
        "\n",
        "> One of the 60-character strings in [this file](data/04.txt) has been encrypted by single-character XOR (each line is one string).\n",
        ">\n",
        "> Find it.\n",
        ">\n",
        "> ### Comment\n",
        "> You should use your code in Step 3 to test each line. One line should output a meaningful message. Remeber that you don't know the key either but you can find it for each line (if any)."
      ]
    },
    {
      "cell_type": "markdown",
      "metadata": {
        "id": "iQzBeSFZvCjj"
      },
      "source": [
        "#### Description\n",
        "*A brief description of your approach. Don't just put the code. First explain what you did and WHY you did it!*\n",
        "\n",
        "<p> (your description)<br>\n",
        "...\n",
        "</p>"
      ]
    },
    {
      "cell_type": "code",
      "execution_count": 4,
      "metadata": {
        "id": "WFBSPAbavCjj",
        "colab": {
          "base_uri": "https://localhost:8080/",
          "height": 0
        },
        "outputId": "b4a560ef-7220-45ff-c7b0-11c8657494de"
      },
      "outputs": [
        {
          "output_type": "stream",
          "name": "stdout",
          "text": [
            "Drive already mounted at /content/drive; to attempt to forcibly remount, call drive.mount(\"/content/drive\", force_remount=True).\n"
          ]
        }
      ],
      "source": [
        "from google.colab import drive # mount google drive to google colab\n",
        "drive.mount('/content/drive')\n",
        "\n",
        "file = open('/content/drive/Shareddrives/ECEcourse/ECE209AS/CA1/data/04.txt','r')\n",
        "content=file.readlines()\n",
        "file.close()"
      ]
    },
    {
      "cell_type": "code",
      "source": [
        "import pandas as pd\n",
        "collect = pd.DataFrame(columns=['string','xor_key','min_fq']) # initialize a dataframe\n",
        "\n",
        "for hex_string in content:\n",
        "  hex_string = codecs.decode(hex_string.strip('\\n'), 'hex') # convert hex_string to hex_byte\n",
        "  text,key,min_fq = decipher(hex_string) # collect decrypted text, key, and min_fq\n",
        "  collect = pd.concat([pd.DataFrame([[text,key,min_fq]], columns=collect.columns), collect], ignore_index=True) # pad them into a dataframe\n",
        "\n",
        "idx_min = collect['min_fq'].idxmin() # look for the index where min_fq is the minimum among all strings\n",
        "print('the location of the encrypted text:', idx_min)\n",
        "print('encrypted text:', collect.loc[idx_min][0].decode().strip('\\n'))\n",
        "print('xor_key:', collect.loc[idx_min][1])\n"
      ],
      "metadata": {
        "colab": {
          "base_uri": "https://localhost:8080/",
          "height": 0
        },
        "id": "oBdDL6D8PKOV",
        "outputId": "53df15d8-c66f-47ac-dbba-4583c818404b"
      },
      "execution_count": 5,
      "outputs": [
        {
          "output_type": "stream",
          "name": "stdout",
          "text": [
            "the location of the encrypted text: 156\n",
            "encrypted text: Now that the party is jumping\n",
            "xor_key: 53\n"
          ]
        }
      ]
    },
    {
      "cell_type": "markdown",
      "metadata": {
        "id": "dniEEoPxvCjj"
      },
      "source": [
        "## Step 5 - Implement repeating-key XOR\n",
        "\n",
        "> Here is the opening stanza of an important work of the English language:\n",
        "> ```\n",
        "> Burning 'em, if you ain't quick and nimble\n",
        "> I go crazy when I hear a cymbal\n",
        "> ```\n",
        "> Encrypt it, under the key \"ICE\", using repeating-key XOR.\n",
        ">\n",
        "> In repeating-key XOR, you'll sequentially apply each byte of the key; the first byte of plaintext will be XOR'd against I, the next C, the next E, then I again for the 4th byte, and so on.\n",
        ">\n",
        "> It should come out to:\n",
        "> ```\n",
        "> 0b3637272a2b2e63622c2e69692a23693a2a3c6324202d623d63343c2a26226324272765272\n",
        "> a282b2f20430a652e2c652a3124333a653e2b2027630c692b20283165286326302e27282f\n",
        "> ```\n"
      ]
    },
    {
      "cell_type": "code",
      "execution_count": 6,
      "metadata": {
        "id": "oCc6YxJXvCjk",
        "colab": {
          "base_uri": "https://localhost:8080/",
          "height": 0
        },
        "outputId": "b6ffbbe1-909c-4d78-d5e0-e61386229d4a"
      },
      "outputs": [
        {
          "output_type": "stream",
          "name": "stdout",
          "text": [
            "decode success\n",
            "0b3637272a2b2e63622c2e69692a23693a2a3c6324202d623d63343c2a26226324272765272a282b2f20430a652e2c652a3124333a653e2b2027630c692b20283165286326302e27282f\n"
          ]
        }
      ],
      "source": [
        "import codecs\n",
        "text = \"Burning 'em, if you ain't quick and nimble\\nI go crazy when I hear a cymbal\"\n",
        "key = 'ICE'\n",
        "encode_hex = '0b3637272a2b2e63622c2e69692a23693a2a3c6324202d623d63343c2a26226324272765272a282b2f20430a652e2c652a3124333a653e2b2027630c692b20283165286326302e27282f'\n",
        "\n",
        "def repeating_key_xor(text, key): # take two bytes input\n",
        "  len_key = len(key)\n",
        "  encoded = []\n",
        "  for i in range(0, len(text)):\n",
        "      encoded.append(text[i] ^ key[i % len_key]) # iterating byte in key to encode text\n",
        "  return bytes(encoded)\n",
        "\n",
        "text_byte = codecs.encode(text) # covert the string to type:bytes\n",
        "key_byte = codecs.encode(key)\n",
        "\n",
        "text_encode = repeating_key_xor(text_byte,key_byte)\n",
        "if (text_encode.hex()==encode_hex): # check if decryption correct\n",
        "  print('decode success')\n",
        "  print(text_encode.hex())"
      ]
    },
    {
      "cell_type": "markdown",
      "metadata": {
        "id": "73EfoeObvCjk"
      },
      "source": [
        "## Step 6 (Main Step) - Break repeating-key XOR\n",
        "\n",
        "> There's a file [here](data/06.txt). It's been base64'd after being encrypted with repeating-key XOR.\n",
        ">\n",
        "> Decrypt it.\n",
        ">\n",
        "> Here's how:\n",
        ">\n",
        "> - Let KEYSIZE be the guessed length of the key; try values from 2 to (say) 40.\n",
        ">\n",
        "> - Write a function to compute the edit distance/Hamming distance between two strings. The Hamming distance is just the number of differing bits. The distance between:\n",
        "```\"this is a test\"```\n",
        "and\n",
        "```\"wokka wokka!!!\"```\n",
        "is 37. Make sure your code agrees before you proceed.\n",
        ">\n",
        "> - For each KEYSIZE, take the first KEYSIZE worth of bytes, and the second KEYSIZE worth of bytes, and find the edit distance between them. Normalize this result by dividing by KEYSIZE.\n",
        ">\n",
        "> - The KEYSIZE with the smallest normalized edit distance is probably the key. You could proceed perhaps with the smallest 2-3 KEYSIZE values. Or take 4 KEYSIZE blocks instead of 2 and average the distances.\n",
        ">\n",
        "> - Now that you probably know the KEYSIZE: break the ciphertext into blocks of KEYSIZE length.\n",
        ">\n",
        "> - Now transpose the blocks: make a block that is the first byte of every block, and a block that is the second byte of every block, and so on.\n",
        ">\n",
        "> - Solve each block as if it was single-character XOR. You already have code to do this.\n",
        "> For each block, the single-byte XOR key that produces the best looking histogram is the repeating-key XOR key byte for that block. Put them together and you have the key."
      ]
    },
    {
      "cell_type": "markdown",
      "metadata": {
        "id": "JdSyX_dZvCjl"
      },
      "source": [
        "#### Description\n",
        "*A brief description of your approach. Don't just put the code. First explain what you did and WHY you did it!*\n",
        "\n",
        "<p> (your description)<br>\n",
        "...\n",
        "</p>"
      ]
    },
    {
      "cell_type": "markdown",
      "source": [
        "Reference<br>\n",
        "(1) https://www.educative.io/answers/how-to-break-a-repeating-key-xor-encryption<br>(2) https://arpitbhayani.me/blogs/decipher-repeated-key-xor/"
      ],
      "metadata": {
        "id": "nvUdk8vU664d"
      }
    },
    {
      "cell_type": "code",
      "execution_count": 7,
      "metadata": {
        "id": "pi2_73UxvCjl",
        "colab": {
          "base_uri": "https://localhost:8080/",
          "height": 0
        },
        "outputId": "d08b58a8-6908-4cd6-82ab-9953bc44b792"
      },
      "outputs": [
        {
          "output_type": "stream",
          "name": "stdout",
          "text": [
            "Drive already mounted at /content/drive; to attempt to forcibly remount, call drive.mount(\"/content/drive\", force_remount=True).\n",
            "<class 'bytes'>\n",
            "2876\n"
          ]
        }
      ],
      "source": [
        "from google.colab import drive # mount google drive to google colab\n",
        "drive.mount('/content/drive')\n",
        "\n",
        "import base64\n",
        "file = open('/content/drive/Shareddrives/ECEcourse/ECE209AS/CA1/data/06.txt','r')\n",
        "content=file.read()\n",
        "content=base64.b64decode(content) # convert base64 to byte\n",
        "print(type(content))\n",
        "print(len(content))\n",
        "file.close()"
      ]
    },
    {
      "cell_type": "code",
      "source": [
        "def hamming_distance(text1, text2): # take in two bytes representation\n",
        "  dist = 0\n",
        "  for byte1, byte2 in zip(text1, text2):\n",
        "      dist += bin(byte1 ^ byte2).count('1')\n",
        "  return dist\n",
        "\n",
        "str1 = \"this is a test\"\n",
        "str2 = \"wokka wokka!!!\"\n",
        "str1_byte = str1.encode('utf-8') # encode to byte\n",
        "str2_byte = str2.encode('utf-8') # encode to byte\n",
        "print('hamming distance:',hamming_distance(str1_byte, str2_byte)) # should be 37\n"
      ],
      "metadata": {
        "colab": {
          "base_uri": "https://localhost:8080/",
          "height": 0
        },
        "id": "iI3oK7TTzKf-",
        "outputId": "2bfb7176-15b8-4af3-cc39-282fe8d4efd4"
      },
      "execution_count": 8,
      "outputs": [
        {
          "output_type": "stream",
          "name": "stdout",
          "text": [
            "hamming distance: 37\n"
          ]
        }
      ]
    },
    {
      "cell_type": "code",
      "source": [
        "from itertools import combinations\n",
        "# Search for KEYSIZE\n",
        "def find_key_size(ciphertext, key_range):\n",
        "    distances = []\n",
        "    for key_size in key_range:\n",
        "        blocks = [ciphertext[i:i+key_size] for i in range(0, len(ciphertext), key_size)][:4] # a list of blocks based on keysize, limit to 4 blocks\n",
        "        pairs = combinations(blocks, 2) # make combination of blocks\n",
        "        normalized_distance = sum(hamming_distance(pair[0], pair[1]) for pair in pairs) / key_size\n",
        "        distances.append((key_size, normalized_distance))\n",
        "    # Sort by normalized distance and return the key size with the smallest distance\n",
        "    return min(distances, key=lambda x: x[1])[0]\n",
        "\n",
        "KEY_RANGE = range(2,40)\n",
        "KEY_SIZE = find_key_size(content, KEY_RANGE)\n",
        "print('the keysize:',KEY_SIZE)\n"
      ],
      "metadata": {
        "colab": {
          "base_uri": "https://localhost:8080/",
          "height": 0
        },
        "id": "XNK1Kxhg0xL2",
        "outputId": "64676eff-abdb-4476-823b-8b6a65536a58"
      },
      "execution_count": 9,
      "outputs": [
        {
          "output_type": "stream",
          "name": "stdout",
          "text": [
            "the keysize: 29\n"
          ]
        }
      ]
    },
    {
      "cell_type": "code",
      "source": [
        "# break the encoded text\n",
        "def break_repeating_key_xor(ciphertext, key_size):\n",
        "  blocks = [ciphertext[i:i+key_size] for i in range(0, len(ciphertext)-key_size, key_size)] # break text into blocks of keysize length, 99 items x 29 bytes\n",
        "  transpose_blocks = [bytes(b[i] for b in blocks) for i in range(key_size)] # transpose blocks\n",
        "\n",
        "  key = [decipher(block)[1] for block in transpose_blocks] # find the key that contains 29 letter, each in type int\n",
        "  key_byte = [bytes([item]) for item in key] # convert int to byte\n",
        "  key_string = ''.join(item.decode() for item in key_byte) # convert byte to string\n",
        "\n",
        "  decrypted_text = repeating_key_xor(ciphertext,key_string.encode('utf-8'))\n",
        "  return decrypted_text.decode(), key_string # output two strings\n",
        "\n",
        "msg, key = break_repeating_key_xor(content,KEY_SIZE)\n",
        "\n",
        "print('The key:', key)\n",
        "print('The message:', msg)\n"
      ],
      "metadata": {
        "id": "Se6OVKWDF_iQ",
        "colab": {
          "base_uri": "https://localhost:8080/",
          "height": 0
        },
        "outputId": "743d31f7-3f59-45ea-ee13-cb827c5c9971"
      },
      "execution_count": 10,
      "outputs": [
        {
          "output_type": "stream",
          "name": "stdout",
          "text": [
            "The key: Terminator X: Bring the noise\n",
            "The message: I'm back and I'm ringin' the bell \n",
            "A rockin' on the mike while the fly girls yell \n",
            "In ecstasy in the back of me \n",
            "Well that's my DJ Deshay cuttin' all them Z's \n",
            "Hittin' hard and the girlies goin' crazy \n",
            "Vanilla's on the mike, man I'm not lazy. \n",
            "\n",
            "I'm lettin' my drug kick in \n",
            "It controls my mouth and I begin \n",
            "To just let it flow, let my concepts go \n",
            "My posse's to the side yellin', Go Vanilla Go! \n",
            "\n",
            "Smooth 'cause that's the way I will be \n",
            "And if you don't give a damn, then \n",
            "Why you starin' at me \n",
            "So get off 'cause I control the stage \n",
            "There's no dissin' allowed \n",
            "I'm in my own phase \n",
            "The girlies sa y they love me and that is ok \n",
            "And I can dance better than any kid n' play \n",
            "\n",
            "Stage 2 -- Yea the one ya' wanna listen to \n",
            "It's off my head so let the beat play through \n",
            "So I can funk it up and make it sound good \n",
            "1-2-3 Yo -- Knock on some wood \n",
            "For good luck, I like my rhymes atrocious \n",
            "Supercalafragilisticexpialidocious \n",
            "I'm an effect and that you can bet \n",
            "I can take a fly girl and make her wet. \n",
            "\n",
            "I'm like Samson -- Samson to Delilah \n",
            "There's no denyin', You can try to hang \n",
            "But you'll keep tryin' to get my style \n",
            "Over and over, practice makes perfect \n",
            "But not if you're a loafer. \n",
            "\n",
            "You'll get nowhere, no place, no time, no girls \n",
            "Soon -- Oh my God, homebody, you probably eat \n",
            "Spaghetti with a spoon! Come on and say it! \n",
            "\n",
            "VIP. Vanilla Ice yep, yep, I'm comin' hard like a rhino \n",
            "Intoxicating so you stagger like a wino \n",
            "So punks stop trying and girl stop cryin' \n",
            "Vanilla Ice is sellin' and you people are buyin' \n",
            "'Cause why the freaks are jockin' like Crazy Glue \n",
            "Movin' and groovin' trying to sing along \n",
            "All through the ghetto groovin' this here song \n",
            "Now you're amazed by the VIP posse. \n",
            "\n",
            "Steppin' so hard like a German Nazi \n",
            "Startled by the bases hittin' ground \n",
            "There's no trippin' on mine, I'm just gettin' down \n",
            "Sparkamatic, I'm hangin' tight like a fanatic \n",
            "You trapped me once and I thought that \n",
            "You might have it \n",
            "So step down and lend me your ear \n",
            "'89 in my time! You, '90 is my year. \n",
            "\n",
            "You're weakenin' fast, YO! and I can tell it \n",
            "Your body's gettin' hot, so, so I can smell it \n",
            "So don't be mad and don't be sad \n",
            "'Cause the lyrics belong to ICE, You can call me Dad \n",
            "You're pitchin' a fit, so step back and endure \n",
            "Let the witch doctor, Ice, do the dance to cure \n",
            "So come up close and don't be square \n",
            "You wanna battle me -- Anytime, anywhere \n",
            "\n",
            "You thought that I was weak, Boy, you're dead wrong \n",
            "So come on, everybody and sing this song \n",
            "\n",
            "Say -- Play that funky music Say, go white boy, go white boy go \n",
            "play that funky music Go white boy, go white boy, go \n",
            "Lay down and boogie and play that funky music till you die. \n",
            "\n",
            "Play that funky music Come on, Come on, let me hear \n",
            "Play that funky music white boy you say it, say it \n",
            "Play that funky music A little louder now \n",
            "Play that funky music, white boy Come on, Come on, Come on \n",
            "Play that funky music \n",
            "\n"
          ]
        }
      ]
    }
  ],
  "metadata": {
    "kernelspec": {
      "display_name": "Python 3",
      "language": "python",
      "name": "python3"
    },
    "language_info": {
      "codemirror_mode": {
        "name": "ipython",
        "version": 3
      },
      "file_extension": ".py",
      "mimetype": "text/x-python",
      "name": "python",
      "nbconvert_exporter": "python",
      "pygments_lexer": "ipython3",
      "version": "3.6.10"
    },
    "colab": {
      "provenance": []
    }
  },
  "nbformat": 4,
  "nbformat_minor": 0
}